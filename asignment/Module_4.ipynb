{
  "nbformat": 4,
  "nbformat_minor": 0,
  "metadata": {
    "colab": {
      "provenance": []
    },
    "kernelspec": {
      "name": "python3",
      "display_name": "Python 3"
    },
    "language_info": {
      "name": "python"
    }
  },
  "cells": [
    {
      "cell_type": "code",
      "execution_count": 7,
      "metadata": {
        "colab": {
          "base_uri": "https://localhost:8080/"
        },
        "id": "V7geUtqtXR4P",
        "outputId": "9f49df29-d1b8-4e72-cbca-b62fdadc4c24"
      },
      "outputs": [
        {
          "output_type": "stream",
          "name": "stdout",
          "text": [
            "Mean Rental Duration: 3.44\n",
            "Median Rental Duration: 3.0\n",
            "Mode Rental Duration: 2 with frequency: 13\n"
          ]
        }
      ],
      "source": [
        "import numpy as np\n",
        "from collections import Counter\n",
        "rental_durations = np.array([\n",
        "    3, 2, 5, 4, 7, 2, 3, 3, 1, 6, 4, 2, 3, 5, 2, 4, 2, 1, 3, 5,\n",
        "    6, 3, 2, 1, 4, 2, 4, 5, 3, 2, 7, 2, 3, 4, 5, 1, 6, 2, 4, 3,\n",
        "    5, 3, 2, 4, 2, 6, 3, 2, 4, 5\n",
        "])\n",
        "mean_duration = np.mean(rental_durations)\n",
        "median_duration = np.median(rental_durations)\n",
        "counts = Counter(rental_durations)\n",
        "mode_value = max(counts, key=counts.get)\n",
        "mode_frequency = counts[mode_value]\n",
        "print(\"Mean Rental Duration:\", mean_duration)\n",
        "print(\"Median Rental Duration:\", median_duration)\n",
        "print(\"Mode Rental Duration:\", mode_value, \"with frequency:\", mode_frequency)\n"
      ]
    },
    {
      "cell_type": "code",
      "source": [
        "import numpy as np\n",
        "delivery_times = np.array([\n",
        "    3, 5, 2, 4, 6, 2, 3, 4, 2, 5,\n",
        "    7, 2, 3, 4, 2, 4, 2, 3, 5, 6,\n",
        "    3, 2, 1, 4, 2, 4, 5, 3, 2, 7,\n",
        "    2, 3, 4, 5, 1, 6, 2, 4, 3, 5,\n",
        "    3, 2, 4, 2, 6, 3, 2, 4, 5, 3\n",
        "])\n",
        "range_delivery = np.max(delivery_times) - np.min(delivery_times)\n",
        "variance_delivery = np.var(delivery_times)\n",
        "std_deviation_delivery = np.std(delivery_times)\n",
        "print(\"Range of Delivery Times:\", range_delivery)\n",
        "print(\"Variance of Delivery Times:\", variance_delivery)\n",
        "print(\"Standard Deviation of Delivery Times:\", std_deviation_delivery)\n"
      ],
      "metadata": {
        "colab": {
          "base_uri": "https://localhost:8080/"
        },
        "id": "DUTxEvFsXnfr",
        "outputId": "426050bd-8627-4b30-9a6e-d63bcae7a19c"
      },
      "execution_count": 8,
      "outputs": [
        {
          "output_type": "stream",
          "name": "stdout",
          "text": [
            "Range of Delivery Times: 6\n",
            "Variance of Delivery Times: 2.2896\n",
            "Standard Deviation of Delivery Times: 1.513142425550219\n"
          ]
        }
      ]
    },
    {
      "cell_type": "code",
      "source": [
        "import numpy as np\n",
        "monthly_revenue = np.array([120, 150, 110, 135, 125, 140, 130, 155, 115, 145, 135, 130])\n",
        "average_revenue = np.mean(monthly_revenue)\n",
        "range_revenue = np.max(monthly_revenue) - np.min(monthly_revenue)\n",
        "print(\"Average Monthly Revenue (in $1000s):\", average_revenue)\n",
        "print(\"Range of Monthly Revenue (in $1000s):\", range_revenue)\n"
      ],
      "metadata": {
        "colab": {
          "base_uri": "https://localhost:8080/"
        },
        "id": "vBMqm_YpYOIz",
        "outputId": "aeec588c-8baa-46d5-c2bb-719e75dfa51d"
      },
      "execution_count": 9,
      "outputs": [
        {
          "output_type": "stream",
          "name": "stdout",
          "text": [
            "Average Monthly Revenue (in $1000s): 132.5\n",
            "Range of Monthly Revenue (in $1000s): 45\n"
          ]
        }
      ]
    },
    {
      "cell_type": "code",
      "source": [
        "import numpy as np\n",
        "model_A = np.array([30, 32, 33, 28, 31, 30, 29, 30, 32, 31])\n",
        "model_B = np.array([25, 27, 26, 23, 28, 24, 26, 25, 27, 28])\n",
        "model_C = np.array([22, 23, 20, 25, 21, 24, 23, 22, 25, 24])\n",
        "model_D = np.array([18, 17, 19, 20, 21, 18, 19, 17, 20, 19])\n",
        "model_E = np.array([35, 36, 34, 35, 33, 34, 32, 33, 36, 34])\n",
        "\n",
        "models = {\n",
        "    'Model A': model_A,\n",
        "    'Model B': model_B,\n",
        "    'Model C': model_C,\n",
        "    'Model D': model_D,\n",
        "    'Model E': model_E\n",
        "}\n",
        "for name, data in models.items():\n",
        "    mean = np.mean(data)\n",
        "    data_range = np.max(data) - np.min(data)\n",
        "    variance = np.var(data)\n",
        "\n",
        "    print(f\"\\n{name}:\")\n",
        "    print(f\"  Average Fuel Efficiency: {mean:.2f} mpg\")\n",
        "    print(f\"  Range: {data_range} mpg\")\n",
        "    print(f\"  Variance: {variance:.2f} mpg²\")\n"
      ],
      "metadata": {
        "colab": {
          "base_uri": "https://localhost:8080/"
        },
        "id": "891Ze1iLZYYU",
        "outputId": "afbb4502-1050-4b15-e7c8-0cb702e59ef4"
      },
      "execution_count": 10,
      "outputs": [
        {
          "output_type": "stream",
          "name": "stdout",
          "text": [
            "\n",
            "Model A:\n",
            "  Average Fuel Efficiency: 30.60 mpg\n",
            "  Range: 5 mpg\n",
            "  Variance: 2.04 mpg²\n",
            "\n",
            "Model B:\n",
            "  Average Fuel Efficiency: 25.90 mpg\n",
            "  Range: 5 mpg\n",
            "  Variance: 2.49 mpg²\n",
            "\n",
            "Model C:\n",
            "  Average Fuel Efficiency: 22.90 mpg\n",
            "  Range: 5 mpg\n",
            "  Variance: 2.49 mpg²\n",
            "\n",
            "Model D:\n",
            "  Average Fuel Efficiency: 18.80 mpg\n",
            "  Range: 4 mpg\n",
            "  Variance: 1.56 mpg²\n",
            "\n",
            "Model E:\n",
            "  Average Fuel Efficiency: 34.20 mpg\n",
            "  Range: 4 mpg\n",
            "  Variance: 1.56 mpg²\n"
          ]
        }
      ]
    },
    {
      "cell_type": "code",
      "source": [
        "import numpy as np\n",
        "import matplotlib.pyplot as plt\n",
        "defect_types = np.array(['A', 'B', 'C', 'D', 'E', 'F', 'G'])\n",
        "frequencies = np.array([30, 40, 20, 10, 45, 25, 30])\n",
        "plt.figure(figsize=(8, 5))\n",
        "plt.bar(defect_types, frequencies, color='skyblue', edgecolor='black')\n",
        "plt.title('Frequency of Different Defect Types')\n",
        "plt.xlabel('Defect Type')\n",
        "plt.ylabel('Frequency')\n",
        "plt.show()\n",
        "max_freq_index = np.argmax(frequencies)\n",
        "most_common_defect = defect_types[max_freq_index]\n",
        "most_common_freq = frequencies[max_freq_index]\n",
        "\n",
        "print(f\"Most Common Defect: Type {most_common_defect} with frequency {most_common_freq}\")\n",
        "plt.figure(figsize=(8, 5))\n",
        "plt.hist(frequencies, bins=5, color='orange', edgecolor='black')\n",
        "plt.title('Histogram of Defect Frequencies')\n",
        "plt.xlabel('Frequency Range')\n",
        "plt.ylabel('Count of Defect Types')\n",
        "plt.show()\n"
      ],
      "metadata": {
        "colab": {
          "base_uri": "https://localhost:8080/",
          "height": 974
        },
        "id": "gwsm9DZdZxTK",
        "outputId": "72b51e40-87ec-43c6-8d2c-c7d1feca5211"
      },
      "execution_count": 24,
      "outputs": [
        {
          "output_type": "display_data",
          "data": {
            "text/plain": [
              "<Figure size 800x500 with 1 Axes>"
            ],
            "image/png": "[encoded data removed]"
          },
          "metadata": {}
        },
        {
          "output_type": "stream",
          "name": "stdout",
          "text": [
            "Most Common Defect: Type E with frequency 45\n"
          ]
        },
        {
          "output_type": "display_data",
          "data": {
            "text/plain": [
              "<Figure size 800x500 with 1 Axes>"
            ],
            "image/png": "[encoded data removed]"
          },
          "metadata": {}
        }
      ]
    },
    {
      "cell_type": "code",
      "source": [
        "\n",
        "import numpy as np\n",
        "ratings = np.array([\n",
        "    4, 5, 3, 4, 4, 3, 2, 5, 4, 3, 5, 4, 2, 3, 4, 5, 3, 4, 5, 3,\n",
        "    4, 3, 2, 4, 5, 3, 4, 5, 4, 3, 3, 4, 5, 2, 3, 4, 4, 3, 5, 4,\n",
        "    3, 4, 5, 4, 2, 3, 4, 5, 3, 4, 5, 4, 3, 4, 5, 3, 4, 5, 4, 3,\n",
        "    3, 4, 5, 2, 3, 4, 4, 3, 5, 4, 3, 4, 5, 4, 2, 3, 4, 5, 3, 4,\n",
        "    5, 4, 3, 4, 5, 3, 4, 5, 4, 3, 3, 4, 5, 2, 3, 4, 4, 3, 5, 4\n",
        "] * 2)\n",
        "mean_rating = np.mean(ratings)\n",
        "std_rating = np.std(ratings)\n",
        "n = len(ratings)\n",
        "\n",
        "skewness = np.sum(((ratings - mean_rating) / std_rating) ** 3) / n\n",
        "kurtosis = np.sum(((ratings - mean_rating) / std_rating) ** 4) / n - 3\n",
        "print(\"Skewness:\", round(skewness, 4))\n",
        "print(\"Kurtosis:\", round(kurtosis, 4))\n",
        "\n",
        "\n"
      ],
      "metadata": {
        "colab": {
          "base_uri": "https://localhost:8080/"
        },
        "id": "ByvfJhw9aQG7",
        "outputId": "acbaa49a-b20f-4660-cfad-ecc996c44b6e"
      },
      "execution_count": 12,
      "outputs": [
        {
          "output_type": "stream",
          "name": "stdout",
          "text": [
            "Skewness: -0.2077\n",
            "Kurtosis: -0.7679\n"
          ]
        }
      ]
    },
    {
      "cell_type": "code",
      "source": [
        "import numpy as np\n",
        "weights = np.array([\n",
        "    55, 60, 62, 65, 68, 70, 72, 75, 78, 80, 82, 85, 88, 90, 92, 95, 100, 105, 110, 115,\n",
        "    120, 125, 130, 135, 140, 145, 150, 155, 160, 165, 170, 175, 180, 185, 190, 195, 200, 205, 210, 215,\n",
        "    220, 225, 230, 235, 240, 245, 250, 255, 260, 265, 270, 275, 280, 285, 290, 295, 300, 305, 310, 315,\n",
        "    320, 325, 330, 335, 340, 345, 350, 355, 360, 365, 370, 375, 380, 385, 390, 395, 400, 405, 410, 415,\n",
        "    420, 425, 430, 435, 440, 445, 450, 455, 460, 465, 470, 475, 480, 485, 490, 495, 500, 505, 510, 515\n",
        "])\n",
        "\n",
        "Q1 = np.percentile(weights, 25)\n",
        "Q2 = np.percentile(weights, 50)\n",
        "Q3 = np.percentile(weights, 75)\n",
        "P15 = np.percentile(weights, 15)\n",
        "P50 = np.percentile(weights, 50)\n",
        "P85 = np.percentile(weights, 85)\n",
        "print(\"Quartiles:\")\n",
        "print(f\"  Q1 (25th percentile): {Q1} kg\")\n",
        "print(f\"  Q2 (Median - 50th percentile): {Q2} kg\")\n",
        "print(f\"  Q3 (75th percentile): {Q3} kg\")\n",
        "\n",
        "print(\"\\nPercentiles:\")\n",
        "print(f\"  15th Percentile: {P15} kg\")\n",
        "print(f\"  50th Percentile (Median): {P50} kg\")\n",
        "print(f\"  85th Percentile: {P85} kg\")\n"
      ],
      "metadata": {
        "colab": {
          "base_uri": "https://localhost:8080/"
        },
        "id": "ec0kvzBkbgWZ",
        "outputId": "da38299c-cf1f-429c-9eb9-ab6248806de9"
      },
      "execution_count": 13,
      "outputs": [
        {
          "output_type": "stream",
          "name": "stdout",
          "text": [
            "Quartiles:\n",
            "  Q1 (25th percentile): 143.75 kg\n",
            "  Q2 (Median - 50th percentile): 267.5 kg\n",
            "  Q3 (75th percentile): 391.25 kg\n",
            "\n",
            "Percentiles:\n",
            "  15th Percentile: 94.55 kg\n",
            "  50th Percentile (Median): 267.5 kg\n",
            "  85th Percentile: 440.74999999999994 kg\n"
          ]
        }
      ]
    },
    {
      "cell_type": "code",
      "source": [
        "import numpy as np\n",
        "\n",
        "hours_studied = np.array([\n",
        "    10, 12, 15, 18, 20, 22, 25, 28, 30, 32,\n",
        "    35, 38, 40, 42, 45, 48, 50, 52, 55, 58,\n",
        "    60, 62, 65, 68, 70, 72, 75, 78, 80, 82\n",
        "])\n",
        "\n",
        "exam_scores = np.array([\n",
        "    60, 65, 70, 75, 80, 82, 85, 88, 90, 92,\n",
        "    93, 95, 96, 97, 98, 99, 100, 102, 105, 106,\n",
        "    107, 108, 110, 112, 114, 115, 116, 118, 120, 122\n",
        "])\n",
        "correlation_matrix = np.corrcoef(hours_studied, exam_scores)\n",
        "correlation_coefficient = correlation_matrix[0, 1]\n",
        "print(\"Correlation Coefficient:\", round(correlation_coefficient, 4))\n"
      ],
      "metadata": {
        "colab": {
          "base_uri": "https://localhost:8080/"
        },
        "id": "mmtMKEXWbq_l",
        "outputId": "b669cc04-a5f2-4e8c-f55c-24457a7fa423"
      },
      "execution_count": 14,
      "outputs": [
        {
          "output_type": "stream",
          "name": "stdout",
          "text": [
            "Correlation Coefficient: 0.9773\n"
          ]
        }
      ]
    },
    {
      "cell_type": "code",
      "source": [
        "import numpy as np\n",
        "from scipy.stats import binom\n",
        "n = 10\n",
        "p = 1/4\n",
        "prob_at_least_8 = binom.pmf(8, n, p) + binom.pmf(9, n, p) + binom.pmf(10, n, p)\n",
        "\n",
        "print(\"Probability of getting at least 8 correct answers:\", prob_at_least_8)\n"
      ],
      "metadata": {
        "id": "nTccU7YicGox",
        "colab": {
          "base_uri": "https://localhost:8080/"
        },
        "outputId": "bf1ef74f-a5ef-46a7-a1bf-c210d850e9f5"
      },
      "execution_count": 15,
      "outputs": [
        {
          "output_type": "stream",
          "name": "stdout",
          "text": [
            "Probability of getting at least 8 correct answers: 0.00041580200195312495\n"
          ]
        }
      ]
    },
    {
      "cell_type": "code",
      "source": [
        "import numpy as np\n",
        "import math\n",
        "\n",
        "n = 10\n",
        "p = 1 / 4\n",
        "\n",
        "def binomial_prob(n, k, p):\n",
        "    comb = math.comb(n, k)\n",
        "    return comb * (p ** k) * ((1 - p) ** (n - k))\n",
        "total_prob = sum(binomial_prob(n, k, p) for k in range(8, 11))\n",
        "print( total_prob)"
      ],
      "metadata": {
        "colab": {
          "base_uri": "https://localhost:8080/"
        },
        "id": "uqNfh_uRqw1x",
        "outputId": "cbf94425-6b28-4b51-8074-6ad2d8000fc8"
      },
      "execution_count": 25,
      "outputs": [
        {
          "output_type": "stream",
          "name": "stdout",
          "text": [
            "0.000415802001953125\n"
          ]
        }
      ]
    },
    {
      "cell_type": "code",
      "source": [
        "import numpy as np\n",
        "def erf_approx(z):\n",
        "    t = 1 / (1 + 0.3275911 * abs(z))\n",
        "    a1 = 0.254829592\n",
        "    a2 = -0.284496736\n",
        "    a3 = 1.421413741\n",
        "    a4 = -1.453152027\n",
        "    a5 = 1.061405429\n",
        "    erf_value = 1 - (a1*t + a2*t**2 + a3*t**3 + a4*t**4 + a5*t**5) * np.exp(-z*z)\n",
        "    return erf_value if z >= 0 else -erf_value\n",
        "def normal_cdf(z):\n",
        "    return 0.5 * (1 + erf_approx(z / np.sqrt(2)))\n",
        "mu = 1000\n",
        "sigma = 100\n",
        "x1 = 900\n",
        "x2 = 1100\n",
        "z1 = (x1 - mu) / sigma\n",
        "z2 = (x2 - mu) / sigma\n",
        "probability = normal_cdf(z2) - normal_cdf(z1)\n",
        "print(probability)\n"
      ],
      "metadata": {
        "colab": {
          "base_uri": "https://localhost:8080/"
        },
        "id": "DeJFzFQfbyEF",
        "outputId": "6f3c7777-90f7-4462-d0f5-91ae38187c04"
      },
      "execution_count": 32,
      "outputs": [
        {
          "output_type": "stream",
          "name": "stdout",
          "text": [
            "0.6826894723352726\n"
          ]
        }
      ]
    },
    {
      "cell_type": "code",
      "source": [
        "import numpy as np\n",
        "sample_mean=170\n",
        "sample_std=8\n",
        "n=100\n",
        "z=1.96\n",
        "se=sample_std/np.sqrt(n)\n",
        "margin_of_error=z*se\n",
        "lower_bound=sample_mean-margin_of_error\n",
        "upper_bound=sample_mean+margin_of_error\n",
        "(lower_bound,upper_bound)\n",
        "\n"
      ],
      "metadata": {
        "id": "tNqKlZhxuXr8",
        "colab": {
          "base_uri": "https://localhost:8080/"
        },
        "outputId": "817d0196-afb8-4e28-9195-e4686ff4dd38"
      },
      "execution_count": 18,
      "outputs": [
        {
          "output_type": "execute_result",
          "data": {
            "text/plain": [
              "(np.float64(168.432), np.float64(171.568))"
            ]
          },
          "metadata": {},
          "execution_count": 18
        }
      ]
    },
    {
      "cell_type": "code",
      "source": [
        "import numpy as np\n",
        "sample_mean = 510\n",
        "mu = 500\n",
        "sample_std = 20\n",
        "n = 25\n",
        "df = n - 1\n",
        "t_stat = (sample_mean - mu) / (sample_std / np.sqrt(n))\n",
        "t_critical = 2.064\n",
        "reject_null = abs(t_stat) > t_critical\n",
        "print(\"t-statistic:\", t_stat)\n",
        "print(\"t-critical:\", t_critical)\n",
        "print( reject_null)\n"
      ],
      "metadata": {
        "colab": {
          "base_uri": "https://localhost:8080/"
        },
        "id": "Q-lw6UFzdsNm",
        "outputId": "3329c926-ea4b-46f2-95ee-c5fb379f8d19"
      },
      "execution_count": 35,
      "outputs": [
        {
          "output_type": "stream",
          "name": "stdout",
          "text": [
            "t-statistic: 2.5\n",
            "t-critical: 2.064\n",
            "True\n"
          ]
        }
      ]
    },
    {
      "cell_type": "code",
      "source": [
        "import numpy as np\n",
        "new_method_scores = np.array([85, 88, 90, 78, 92, 84, 89, 91, 87, 90,\n",
        "                              86, 88, 85, 89, 90, 91, 87, 85, 86, 90,\n",
        "                              88, 84, 89, 87, 90])\n",
        "traditional_scores = np.array([80, 82, 78, 75, 79, 81, 76, 77, 78, 80,\n",
        "                               79, 81, 77, 76, 78, 80, 79, 75, 77, 76,\n",
        "                               78, 80, 81, 79, 77])\n",
        "n1 = len(new_method_scores)\n",
        "n2 = len(traditional_scores)\n",
        "mean1 = np.mean(new_method_scores)\n",
        "mean2 = np.mean(traditional_scores)\n",
        "std1 = np.std(new_method_scores, ddof=1)\n",
        "std2 = np.std(traditional_scores, ddof=1)\n",
        "se = np.sqrt((std1**2 / n1) + (std2**2 / n2))\n",
        "t_stat = (mean1 - mean2) / se\n",
        "print(\"Mean (new method):\", mean1)\n",
        "print(\"Mean (traditional):\", mean2)\n",
        "print(\"t-statistic:\", t_stat)\n"
      ],
      "metadata": {
        "colab": {
          "base_uri": "https://localhost:8080/"
        },
        "id": "BLW43SuFdzXp",
        "outputId": "0a122de1-073e-473f-e938-29752633810f"
      },
      "execution_count": 36,
      "outputs": [
        {
          "output_type": "stream",
          "name": "stdout",
          "text": [
            "Mean (new method): 87.56\n",
            "Mean (traditional): 78.36\n",
            "t-statistic: 12.678704856957413\n"
          ]
        }
      ]
    },
    {
      "cell_type": "code",
      "source": [
        "import numpy as np\n",
        "n = 500\n",
        "x = 320\n",
        "p_hat = x / n\n",
        "z = 1.645\n",
        "se = np.sqrt((p_hat * (1 - p_hat)) / n)\n",
        "margin = z * se\n",
        "lower = p_hat - margin\n",
        "upper = p_hat + margin\n",
        "print(\"90% Confidence Interval for population proportion: ({:.3f}, {:.3f})\".format(lower, upper))\n"
      ],
      "metadata": {
        "colab": {
          "base_uri": "https://localhost:8080/"
        },
        "id": "fADlj0VveLgl",
        "outputId": "511e3460-6f3d-45a3-a276-a05c7cdf753a"
      },
      "execution_count": 37,
      "outputs": [
        {
          "output_type": "stream",
          "name": "stdout",
          "text": [
            "90% Confidence Interval for population proportion: (0.605, 0.675)\n"
          ]
        }
      ]
    },
    {
      "cell_type": "code",
      "source": [
        "import numpy as np\n",
        "import math\n",
        "lmbda = 2\n",
        "x = 3\n",
        "prob = (np.exp(-lmbda) * (lmbda ** x)) / math.factorial(x)\n",
        "\n",
        "print(\"Probability of exactly 3 defects:\", round(prob, 4))\n"
      ],
      "metadata": {
        "colab": {
          "base_uri": "https://localhost:8080/"
        },
        "id": "_94RY9avepto",
        "outputId": "9bebec2a-72a9-450b-8a26-e1f34783c991"
      },
      "execution_count": 38,
      "outputs": [
        {
          "output_type": "stream",
          "name": "stdout",
          "text": [
            "Probability of exactly 3 defects: 0.1804\n"
          ]
        }
      ]
    }
  ]
}